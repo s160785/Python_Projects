{
  "nbformat": 4,
  "nbformat_minor": 0,
  "metadata": {
    "colab": {
      "name": "CIfar10andFashion_mnist_ANN.ipynb",
      "provenance": [],
      "collapsed_sections": []
    },
    "kernelspec": {
      "name": "python3",
      "display_name": "Python 3"
    }
  },
  "cells": [
    {
      "cell_type": "code",
      "metadata": {
        "id": "m58dG1d_M4f_"
      },
      "source": [
        "import tensorflow as tf\n",
        "from tensorflow import keras\n",
        "import matplotlib.pyplot as plt\n",
        "import numpy as np"
      ],
      "execution_count": null,
      "outputs": []
    },
    {
      "cell_type": "code",
      "metadata": {
        "colab": {
          "base_uri": "https://localhost:8080/"
        },
        "id": "b4Zz0JLowKw6",
        "outputId": "59329667-7a13-463e-de2f-dbb292049673"
      },
      "source": [
        "tf.config.experimental.list_physical_devices()"
      ],
      "execution_count": null,
      "outputs": [
        {
          "output_type": "execute_result",
          "data": {
            "text/plain": [
              "[PhysicalDevice(name='/physical_device:CPU:0', device_type='CPU')]"
            ]
          },
          "metadata": {
            "tags": []
          },
          "execution_count": 2
        }
      ]
    },
    {
      "cell_type": "code",
      "metadata": {
        "colab": {
          "base_uri": "https://localhost:8080/"
        },
        "id": "yn_PTlTPwYZC",
        "outputId": "6221f3c0-aa63-4c66-b756-939290372364"
      },
      "source": [
        "tf.test.is_built_with_cuda()"
      ],
      "execution_count": null,
      "outputs": [
        {
          "output_type": "execute_result",
          "data": {
            "text/plain": [
              "True"
            ]
          },
          "metadata": {
            "tags": []
          },
          "execution_count": 3
        }
      ]
    },
    {
      "cell_type": "code",
      "metadata": {
        "colab": {
          "base_uri": "https://localhost:8080/"
        },
        "id": "tcXPp73zwe7F",
        "outputId": "8dd35e37-a3d0-404b-ef7d-e025de3c4cdc"
      },
      "source": [
        "(X_train,y_train),(X_test,y_test) = keras.datasets.cifar10.load_data()"
      ],
      "execution_count": null,
      "outputs": [
        {
          "output_type": "stream",
          "text": [
            "Downloading data from https://www.cs.toronto.edu/~kriz/cifar-10-python.tar.gz\n",
            "170500096/170498071 [==============================] - 6s 0us/step\n"
          ],
          "name": "stdout"
        }
      ]
    },
    {
      "cell_type": "code",
      "metadata": {
        "colab": {
          "base_uri": "https://localhost:8080/"
        },
        "id": "hp5dvb1xxVf-",
        "outputId": "c00f900d-7431-44d9-900c-a58ec86f74a0"
      },
      "source": [
        "X_train.shape"
      ],
      "execution_count": null,
      "outputs": [
        {
          "output_type": "execute_result",
          "data": {
            "text/plain": [
              "(50000, 32, 32, 3)"
            ]
          },
          "metadata": {
            "tags": []
          },
          "execution_count": 5
        }
      ]
    },
    {
      "cell_type": "code",
      "metadata": {
        "colab": {
          "base_uri": "https://localhost:8080/"
        },
        "id": "rTRa0lWixqZr",
        "outputId": "8a5b6b4d-451d-4942-e9d2-620c7afbfea2"
      },
      "source": [
        "y_train"
      ],
      "execution_count": null,
      "outputs": [
        {
          "output_type": "execute_result",
          "data": {
            "text/plain": [
              "array([[6],\n",
              "       [9],\n",
              "       [9],\n",
              "       ...,\n",
              "       [9],\n",
              "       [1],\n",
              "       [1]], dtype=uint8)"
            ]
          },
          "metadata": {
            "tags": []
          },
          "execution_count": 6
        }
      ]
    },
    {
      "cell_type": "code",
      "metadata": {
        "colab": {
          "base_uri": "https://localhost:8080/"
        },
        "id": "Fp90cwyIxe3L",
        "outputId": "e0047e77-cabb-49e4-d6d2-7d13e96e87a8"
      },
      "source": [
        "(X_trainf,y_trainf),(X_testf,y_testf) = keras.datasets.fashion_mnist.load_data()"
      ],
      "execution_count": null,
      "outputs": [
        {
          "output_type": "stream",
          "text": [
            "Downloading data from https://storage.googleapis.com/tensorflow/tf-keras-datasets/train-labels-idx1-ubyte.gz\n",
            "32768/29515 [=================================] - 0s 0us/step\n",
            "Downloading data from https://storage.googleapis.com/tensorflow/tf-keras-datasets/train-images-idx3-ubyte.gz\n",
            "26427392/26421880 [==============================] - 0s 0us/step\n",
            "Downloading data from https://storage.googleapis.com/tensorflow/tf-keras-datasets/t10k-labels-idx1-ubyte.gz\n",
            "8192/5148 [===============================================] - 0s 0us/step\n",
            "Downloading data from https://storage.googleapis.com/tensorflow/tf-keras-datasets/t10k-images-idx3-ubyte.gz\n",
            "4423680/4422102 [==============================] - 0s 0us/step\n"
          ],
          "name": "stdout"
        }
      ]
    },
    {
      "cell_type": "code",
      "metadata": {
        "colab": {
          "base_uri": "https://localhost:8080/"
        },
        "id": "1aT7JNTQxnPT",
        "outputId": "6ef940df-0a9c-47c3-8020-50c3204c22ca"
      },
      "source": [
        "X_trainf.shape"
      ],
      "execution_count": null,
      "outputs": [
        {
          "output_type": "execute_result",
          "data": {
            "text/plain": [
              "(60000, 28, 28)"
            ]
          },
          "metadata": {
            "tags": []
          },
          "execution_count": 8
        }
      ]
    },
    {
      "cell_type": "code",
      "metadata": {
        "colab": {
          "base_uri": "https://localhost:8080/"
        },
        "id": "KDHy67fXxurn",
        "outputId": "396f87c5-cb32-4304-8926-ae3aff69cb52"
      },
      "source": [
        "y_trainf[0]"
      ],
      "execution_count": null,
      "outputs": [
        {
          "output_type": "execute_result",
          "data": {
            "text/plain": [
              "9"
            ]
          },
          "metadata": {
            "tags": []
          },
          "execution_count": 9
        }
      ]
    },
    {
      "cell_type": "code",
      "metadata": {
        "colab": {
          "base_uri": "https://localhost:8080/",
          "height": 282
        },
        "id": "8KxvN4hqx3Sg",
        "outputId": "8accaf02-2e67-4ba3-b230-602cb9a16ff0"
      },
      "source": [
        "plt.imshow(X_trainf[0])"
      ],
      "execution_count": null,
      "outputs": [
        {
          "output_type": "execute_result",
          "data": {
            "text/plain": [
              "<matplotlib.image.AxesImage at 0x7f078dd28898>"
            ]
          },
          "metadata": {
            "tags": []
          },
          "execution_count": 10
        },
        {
          "output_type": "display_data",
          "data": {
            "image/png": "[encoded data removed]",
            "text/plain": [
              "<Figure size 432x288 with 1 Axes>"
            ]
          },
          "metadata": {
            "tags": [],
            "needs_background": "light"
          }
        }
      ]
    },
    {
      "cell_type": "code",
      "metadata": {
        "id": "Y-l_WuiWyTsa"
      },
      "source": [
        "fashion_classes = ['T-shirt/top', 'Trouser', 'Pullover', 'Dress', 'Coat',\n",
        "               'Sandal', 'Shirt', 'Sneaker', 'Bag', 'Ankle boot']"
      ],
      "execution_count": null,
      "outputs": []
    },
    {
      "cell_type": "code",
      "metadata": {
        "id": "zT14BNwY0CdR"
      },
      "source": [
        "cifar10_classes = [\"airplane\",\"automobile\",\"bird\",\"cat\",\"deer\",\"dog\",\"frog\",\"horse\",\"ship\",\"truck\"]"
      ],
      "execution_count": null,
      "outputs": []
    },
    {
      "cell_type": "code",
      "metadata": {
        "colab": {
          "base_uri": "https://localhost:8080/",
          "height": 35
        },
        "id": "Y5NmXuu-0KBJ",
        "outputId": "5bf15896-a3e5-4f9c-ee89-1941786082e8"
      },
      "source": [
        "cifar10_classes[y_train[0][0]]"
      ],
      "execution_count": null,
      "outputs": [
        {
          "output_type": "execute_result",
          "data": {
            "application/vnd.google.colaboratory.intrinsic+json": {
              "type": "string"
            },
            "text/plain": [
              "'frog'"
            ]
          },
          "metadata": {
            "tags": []
          },
          "execution_count": 13
        }
      ]
    },
    {
      "cell_type": "code",
      "metadata": {
        "colab": {
          "base_uri": "https://localhost:8080/",
          "height": 35
        },
        "id": "k0RZ2rxN08lR",
        "outputId": "1e87250e-f2b8-4a0c-f741-1eb4d4d63a09"
      },
      "source": [
        "fashion_classes[y_trainf[0]]"
      ],
      "execution_count": null,
      "outputs": [
        {
          "output_type": "execute_result",
          "data": {
            "application/vnd.google.colaboratory.intrinsic+json": {
              "type": "string"
            },
            "text/plain": [
              "'Ankle boot'"
            ]
          },
          "metadata": {
            "tags": []
          },
          "execution_count": 14
        }
      ]
    },
    {
      "cell_type": "markdown",
      "metadata": {
        "id": "jXrFam4y1HNu"
      },
      "source": [
        "**Preprocesing: scaling Images**"
      ]
    },
    {
      "cell_type": "code",
      "metadata": {
        "id": "f5anLFDt1aiZ"
      },
      "source": [
        "X_train_scaled = X_train/255\n",
        "X_test_scaled = X_test/255"
      ],
      "execution_count": null,
      "outputs": []
    },
    {
      "cell_type": "code",
      "metadata": {
        "id": "pXZuArl61rwh"
      },
      "source": [
        "#One Hot Encoding inorder to process categorical_crossentropy optimization\n",
        "y_train_categorical = keras.utils.to_categorical(y_train,num_classes=10)\n",
        "y_test_categorical = keras.utils.to_categorical(y_test,num_classes=10)"
      ],
      "execution_count": null,
      "outputs": []
    },
    {
      "cell_type": "code",
      "metadata": {
        "id": "9XL_gLkF2cvP"
      },
      "source": [
        "X_trainf_scaled = X_trainf/255\n",
        "X_testf_scaled = X_testf/255"
      ],
      "execution_count": null,
      "outputs": []
    },
    {
      "cell_type": "code",
      "metadata": {
        "colab": {
          "base_uri": "https://localhost:8080/"
        },
        "id": "Y4x_nNLb3G7n",
        "outputId": "ce1a8679-24a0-4ada-a9ab-653c23ed45c0"
      },
      "source": [
        "cifar_model = keras.Sequential([\n",
        "    keras.layers.Flatten(input_shape=(32,32,3)),\n",
        "    #keras.layers.Dense(15000,activation='relu'),\n",
        "    keras.layers.Dense(5000,activation='relu'),\n",
        "    keras.layers.Dense(10,activation='sigmoid')\n",
        "])\n",
        "cifar_model.compile(optimizer='SGD',\n",
        "                    loss='categorical_crossentropy',\n",
        "                    metrics=['accuracy'])\n",
        "cifar_model.fit(X_train_scaled,y_train_categorical,epochs=5)"
      ],
      "execution_count": null,
      "outputs": [
        {
          "output_type": "stream",
          "text": [
            "Epoch 1/5\n",
            "1563/1563 [==============================] - 86s 55ms/step - loss: 1.9528 - accuracy: 0.2990\n",
            "Epoch 2/5\n",
            "1563/1563 [==============================] - 78s 50ms/step - loss: 1.6752 - accuracy: 0.4118\n",
            "Epoch 3/5\n",
            "1563/1563 [==============================] - 77s 49ms/step - loss: 1.5727 - accuracy: 0.4531\n",
            "Epoch 4/5\n",
            "1563/1563 [==============================] - 78s 50ms/step - loss: 1.5225 - accuracy: 0.4701\n",
            "Epoch 5/5\n",
            "1563/1563 [==============================] - 80s 51ms/step - loss: 1.4710 - accuracy: 0.4899\n"
          ],
          "name": "stdout"
        },
        {
          "output_type": "execute_result",
          "data": {
            "text/plain": [
              "<tensorflow.python.keras.callbacks.History at 0x7f0787f02240>"
            ]
          },
          "metadata": {
            "tags": []
          },
          "execution_count": 20
        }
      ]
    },
    {
      "cell_type": "code",
      "metadata": {
        "colab": {
          "base_uri": "https://localhost:8080/"
        },
        "id": "0YVwSsOk9zDO",
        "outputId": "43f4f1c2-5aba-4237-914e-ec1adc8d3d9f"
      },
      "source": [
        "cifar_model.evaluate(X_test_scaled,y_test_categorical)"
      ],
      "execution_count": null,
      "outputs": [
        {
          "output_type": "stream",
          "text": [
            "313/313 [==============================] - 7s 23ms/step - loss: 1.5348 - accuracy: 0.4658\n"
          ],
          "name": "stdout"
        },
        {
          "output_type": "execute_result",
          "data": {
            "text/plain": [
              "[1.5347914695739746, 0.4657999873161316]"
            ]
          },
          "metadata": {
            "tags": []
          },
          "execution_count": 21
        }
      ]
    },
    {
      "cell_type": "code",
      "metadata": {
        "colab": {
          "base_uri": "https://localhost:8080/"
        },
        "id": "uDbnHmeehd_H",
        "outputId": "61de2b5c-d602-45ea-b1fb-90f0e36b74fd"
      },
      "source": [
        "from sklearn.metrics import classification_report,confusion_matrix\n",
        "y_pred = cifar_model.predict(X_test_scaled)\n",
        "y_pred_classes = [np.argmax(element) for element in y_pred]\n",
        "\n",
        "print(\"Classification_report:\\n\",classification_report(y_test,y_pred_classes))"
      ],
      "execution_count": null,
      "outputs": [
        {
          "output_type": "stream",
          "text": [
            "Classification_report:\n",
            "               precision    recall  f1-score   support\n",
            "\n",
            "           0       0.73      0.30      0.43      1000\n",
            "           1       0.53      0.70      0.60      1000\n",
            "           2       0.49      0.16      0.24      1000\n",
            "           3       0.28      0.53      0.36      1000\n",
            "           4       0.46      0.31      0.37      1000\n",
            "           5       0.37      0.37      0.37      1000\n",
            "           6       0.44      0.67      0.53      1000\n",
            "           7       0.56      0.52      0.54      1000\n",
            "           8       0.58      0.64      0.61      1000\n",
            "           9       0.58      0.47      0.52      1000\n",
            "\n",
            "    accuracy                           0.47     10000\n",
            "   macro avg       0.50      0.47      0.46     10000\n",
            "weighted avg       0.50      0.47      0.46     10000\n",
            "\n"
          ],
          "name": "stdout"
        }
      ]
    },
    {
      "cell_type": "code",
      "metadata": {
        "id": "aHJb55vWkxff"
      },
      "source": [
        "cnn_cifar = keras.Sequential([\n",
        "    #convolution with relu\n",
        "    keras.layers.Conv2D(filters=32, kernel_size=(3,3), activation='relu', input_shape=(32,32,3)),\n",
        "    \n",
        "    #Pooling Layer\n",
        "    keras.layers.MaxPooling2D((2,2)),\n",
        "    #convolution with relu\n",
        "    keras.layers.Conv2D(filters=64,kernel_size=(3,3), activation='relu'),\n",
        "    \n",
        "    #Pooling Layer\n",
        "    keras.layers.MaxPooling2D((2,2)),\n",
        "\n",
        "    #Fully Connected Layer\n",
        "    keras.layers.Flatten(),\n",
        "    keras.layers.Dense(64,activation='relu'),\n",
        "    keras.layers.Dense(10,activation='sigmoid')\n",
        "])\n",
        "cnn_cifar.compile(optimizer= 'adam',\n",
        "                  loss='categorical_crossentropy',\n",
        "                  metrics=['accuracy'])"
      ],
      "execution_count": null,
      "outputs": []
    },
    {
      "cell_type": "code",
      "metadata": {
        "colab": {
          "base_uri": "https://localhost:8080/"
        },
        "id": "mfHMwUnepFEB",
        "outputId": "6340af44-cca7-42c2-c79b-7a10e718b15d"
      },
      "source": [
        "cnn_cifar.fit(X_train_scaled,y_train_categorical,epochs=5)"
      ],
      "execution_count": null,
      "outputs": [
        {
          "output_type": "stream",
          "text": [
            "Epoch 1/5\n",
            "1563/1563 [==============================] - 54s 34ms/step - loss: 1.7027 - accuracy: 0.3807\n",
            "Epoch 2/5\n",
            "1563/1563 [==============================] - 53s 34ms/step - loss: 1.1457 - accuracy: 0.5948\n",
            "Epoch 3/5\n",
            "1563/1563 [==============================] - 52s 33ms/step - loss: 0.9961 - accuracy: 0.6483\n",
            "Epoch 4/5\n",
            "1563/1563 [==============================] - 52s 33ms/step - loss: 0.9080 - accuracy: 0.6826\n",
            "Epoch 5/5\n",
            "1563/1563 [==============================] - 52s 33ms/step - loss: 0.8509 - accuracy: 0.7029\n"
          ],
          "name": "stdout"
        },
        {
          "output_type": "execute_result",
          "data": {
            "text/plain": [
              "<tensorflow.python.keras.callbacks.History at 0x7f0772af3550>"
            ]
          },
          "metadata": {
            "tags": []
          },
          "execution_count": 36
        }
      ]
    },
    {
      "cell_type": "code",
      "metadata": {
        "colab": {
          "base_uri": "https://localhost:8080/"
        },
        "id": "pWrTDL5opP3L",
        "outputId": "dab65976-f539-47b7-e49f-bf060470618e"
      },
      "source": [
        "cnn_cifar.evaluate(X_test_scaled,y_test_categorical)"
      ],
      "execution_count": null,
      "outputs": [
        {
          "output_type": "stream",
          "text": [
            "313/313 [==============================] - 4s 12ms/step - loss: 0.9389 - accuracy: 0.6741\n"
          ],
          "name": "stdout"
        },
        {
          "output_type": "execute_result",
          "data": {
            "text/plain": [
              "[0.9388574361801147, 0.6740999817848206]"
            ]
          },
          "metadata": {
            "tags": []
          },
          "execution_count": 37
        }
      ]
    },
    {
      "cell_type": "code",
      "metadata": {
        "colab": {
          "base_uri": "https://localhost:8080/"
        },
        "id": "oi8kCpZXpX-Y",
        "outputId": "840821a3-7897-4f1b-db2a-b08502a745eb"
      },
      "source": [
        "y_pred = cnn_cifar.predict(X_test_scaled)\n",
        "y_pred_classes = [np.argmax(element) for element in y_pred]\n",
        "\n",
        "print(\"Classification_report:\\n\",classification_report(y_test,y_pred_classes))"
      ],
      "execution_count": null,
      "outputs": [
        {
          "output_type": "stream",
          "text": [
            "Classification_report:\n",
            "               precision    recall  f1-score   support\n",
            "\n",
            "           0       0.71      0.78      0.74      1000\n",
            "           1       0.84      0.75      0.79      1000\n",
            "           2       0.63      0.45      0.53      1000\n",
            "           3       0.50      0.48      0.49      1000\n",
            "           4       0.63      0.61      0.62      1000\n",
            "           5       0.65      0.49      0.56      1000\n",
            "           6       0.57      0.88      0.69      1000\n",
            "           7       0.77      0.70      0.73      1000\n",
            "           8       0.79      0.78      0.78      1000\n",
            "           9       0.69      0.82      0.75      1000\n",
            "\n",
            "    accuracy                           0.67     10000\n",
            "   macro avg       0.68      0.67      0.67     10000\n",
            "weighted avg       0.68      0.67      0.67     10000\n",
            "\n"
          ],
          "name": "stdout"
        }
      ]
    },
    {
      "cell_type": "code",
      "metadata": {
        "colab": {
          "base_uri": "https://localhost:8080/",
          "height": 35
        },
        "id": "j68Qz4awEIcp",
        "outputId": "a216b34d-73a5-452a-9a3d-3a94ce58973a"
      },
      "source": [
        "cifar10_classes[np.argmax(cifar_model.predict(X_test_scaled)[0])]"
      ],
      "execution_count": null,
      "outputs": [
        {
          "output_type": "execute_result",
          "data": {
            "application/vnd.google.colaboratory.intrinsic+json": {
              "type": "string"
            },
            "text/plain": [
              "'cat'"
            ]
          },
          "metadata": {
            "tags": []
          },
          "execution_count": 23
        }
      ]
    },
    {
      "cell_type": "code",
      "metadata": {
        "colab": {
          "base_uri": "https://localhost:8080/",
          "height": 35
        },
        "id": "Kgnw_zMk-xVu",
        "outputId": "630b3a91-07e7-4fb0-a29b-a54f02779e1f"
      },
      "source": [
        "cifar10_classes[y_test[0][0]]"
      ],
      "execution_count": null,
      "outputs": [
        {
          "output_type": "execute_result",
          "data": {
            "application/vnd.google.colaboratory.intrinsic+json": {
              "type": "string"
            },
            "text/plain": [
              "'cat'"
            ]
          },
          "metadata": {
            "tags": []
          },
          "execution_count": 24
        }
      ]
    },
    {
      "cell_type": "code",
      "metadata": {
        "colab": {
          "base_uri": "https://localhost:8080/"
        },
        "id": "4e7tGQMl4-xr",
        "outputId": "0bd5ef97-9458-47d5-fbcd-49293b29855d"
      },
      "source": [
        "fashion_model= keras.Sequential([\n",
        "      keras.layers.Flatten(input_shape=(28,28)),\n",
        "      keras.layers.Dense(6000,activation='relu'),\n",
        "      keras.layers.Dense(2000,activation='relu'),\n",
        "      keras.layers.Dense(500,activation='relu'),\n",
        "      keras.layers.Dense(10,activation='sigmoid')\n",
        "])\n",
        "fashion_model.compile(optimizer='adam',\n",
        "                      loss='sparse_categorical_crossentropy',\n",
        "                      metrics=['accuracy'])\n",
        "fashion_model.fit(X_trainf_scaled,y_trainf,epochs=1)"
      ],
      "execution_count": null,
      "outputs": [
        {
          "output_type": "stream",
          "text": [
            "1875/1875 [==============================] - 190s 101ms/step - loss: 0.6584 - accuracy: 0.7690\n"
          ],
          "name": "stdout"
        },
        {
          "output_type": "execute_result",
          "data": {
            "text/plain": [
              "<tensorflow.python.keras.callbacks.History at 0x7f077c8c6550>"
            ]
          },
          "metadata": {
            "tags": []
          },
          "execution_count": 26
        }
      ]
    },
    {
      "cell_type": "code",
      "metadata": {
        "colab": {
          "base_uri": "https://localhost:8080/"
        },
        "id": "YR4KhPsNDRk5",
        "outputId": "af3271ce-5f40-454d-df2f-18a2fca40922"
      },
      "source": [
        "fashion_model.evaluate(X_testf_scaled,y_testf)"
      ],
      "execution_count": null,
      "outputs": [
        {
          "output_type": "stream",
          "text": [
            "313/313 [==============================] - 9s 29ms/step - loss: 0.4038 - accuracy: 0.8544\n"
          ],
          "name": "stdout"
        },
        {
          "output_type": "execute_result",
          "data": {
            "text/plain": [
              "[0.40376463532447815, 0.8543999791145325]"
            ]
          },
          "metadata": {
            "tags": []
          },
          "execution_count": 30
        }
      ]
    },
    {
      "cell_type": "code",
      "metadata": {
        "colab": {
          "base_uri": "https://localhost:8080/",
          "height": 35
        },
        "id": "zMudN2xlFd5s",
        "outputId": "c2f59111-e362-411b-b5ff-1b2c90bfcdf3"
      },
      "source": [
        "fashion_classes[np.argmax(fashion_model.predict(X_testf_scaled)[0])]"
      ],
      "execution_count": null,
      "outputs": [
        {
          "output_type": "execute_result",
          "data": {
            "application/vnd.google.colaboratory.intrinsic+json": {
              "type": "string"
            },
            "text/plain": [
              "'Ankle boot'"
            ]
          },
          "metadata": {
            "tags": []
          },
          "execution_count": 28
        }
      ]
    },
    {
      "cell_type": "code",
      "metadata": {
        "colab": {
          "base_uri": "https://localhost:8080/",
          "height": 35
        },
        "id": "KinqFPFVFuRC",
        "outputId": "8040f6b6-bb26-4633-a68c-aa0b57bf45be"
      },
      "source": [
        "fashion_classes[y_testf[0]]"
      ],
      "execution_count": null,
      "outputs": [
        {
          "output_type": "execute_result",
          "data": {
            "application/vnd.google.colaboratory.intrinsic+json": {
              "type": "string"
            },
            "text/plain": [
              "'Ankle boot'"
            ]
          },
          "metadata": {
            "tags": []
          },
          "execution_count": 29
        }
      ]
    },
    {
      "cell_type": "code",
      "metadata": {
        "id": "5A9Pze2oiLpO"
      },
      "source": [
        ""
      ],
      "execution_count": null,
      "outputs": []
    }
  ]
}