{
 "cells": [
  {
   "cell_type": "markdown",
   "id": "f501c890-957b-47a0-ae31-949d79156e17",
   "metadata": {},
   "source": [
    "# SECTION 1: \n",
    "## Contour Detection"
   ]
  },
  {
   "cell_type": "code",
   "execution_count": 2,
   "id": "1ff94b27-a0a9-4e04-84d3-04595f69e617",
   "metadata": {},
   "outputs": [
    {
     "name": "stdout",
     "output_type": "stream",
     "text": [
      "2206.5\n",
      "10307.0\n",
      "2758.5\n",
      "3835.5\n",
      "3229.5\n",
      "2573.5\n",
      "6095.5\n",
      "3390.0\n",
      "1442.5\n",
      "4747.5\n",
      "7297.0\n",
      "1419.5\n",
      "934.0\n",
      "3807.0\n",
      "1921.0\n",
      "5376.0\n",
      "5546.0\n"
     ]
    }
   ],
   "source": [
    "# contouR_DETECTION.PY\n",
    "import cv2\n",
    "\n",
    "def detect_and_draw_contours(image_path, output_path='contours_image.jpg', min_area=500):\n",
    "    img = cv2.imread(image_path)\n",
    "    gray = cv2.cvtColor(img, cv2.COLOR_BGR2GRAY)\n",
    "    edges = cv2.Canny(gray, 100, 200)\n",
    "    contours, _ = cv2.findContours(edges, cv2.RETR_EXTERNAL, cv2.CHAIN_APPROX_SIMPLE)\n",
    "    for cnt in contours:\n",
    "        if cv2.contourArea(cnt) > min_area:\n",
    "            print(cv2.contourArea(cnt))\n",
    "            cv2.drawContours(img, [cnt], -1, (0, 255, 0), 2)\n",
    "    cv2.imwrite(output_path, img)\n",
    "\n",
    "detect_and_draw_contours(\"image.jpg\")"
   ]
  },
  {
   "cell_type": "markdown",
   "id": "c4681190-aabf-4aaf-bf8e-bd30ab516fee",
   "metadata": {},
   "source": [
    "## Canny Limitations and Alternatives\n",
    "\n",
    "Sensitivity of Noise and weak edges\n",
    "Hyper parametric tuning to find best thresholds.\n",
    "\n",
    "\n",
    "### Alternatives:\n",
    "- Sobel Filter : Detects horizontal and vertical edges.\n",
    "- Laplacian of Gaussian (LoG) – Second-order derivative based edge detection."
   ]
  },
  {
   "cell_type": "markdown",
   "id": "230448d5-9748-4519-b789-d19c2953a5ac",
   "metadata": {},
   "source": [
    "# Section 2:\n",
    "## Deep Learing Model Architecture and Design"
   ]
  },
  {
   "cell_type": "code",
   "execution_count": 7,
   "id": "b110d201-eec5-4057-bbd4-a31a99c088c5",
   "metadata": {},
   "outputs": [],
   "source": [
    "# 1. Import Libraries\n",
    "import torch\n",
    "import torch.nn as nn\n",
    "import torch.optim as optim\n",
    "import torchvision\n",
    "import torchvision.transforms as transforms\n",
    "import matplotlib.pyplot as plt\n",
    "from sklearn.metrics import confusion_matrix, ConfusionMatrixDisplay\n",
    "import numpy as np\n"
   ]
  },
  {
   "cell_type": "code",
   "execution_count": 8,
   "id": "9fd33ddf-26ec-40c7-b7ca-771bd9ceb9d8",
   "metadata": {},
   "outputs": [],
   "source": [
    "# 3. Define Custom CNN\n",
    "class CustomCNN(nn.Module):\n",
    "    def __init__(self):\n",
    "        super(CustomCNN, self).__init__()\n",
    "        self.layer1 = nn.Sequential(\n",
    "            nn.Conv2d(3, 32, kernel_size=3, padding=1),\n",
    "            nn.BatchNorm2d(32),\n",
    "            nn.ReLU(),\n",
    "            nn.MaxPool2d(2)\n",
    "        )\n",
    "        self.layer2 = nn.Sequential(\n",
    "            nn.Conv2d(32, 64, kernel_size=3, padding=1),\n",
    "            nn.BatchNorm2d(64),\n",
    "            nn.ReLU(),\n",
    "            nn.MaxPool2d(2)\n",
    "        )\n",
    "        self.layer3 = nn.Sequential(\n",
    "            nn.Conv2d(64, 128, kernel_size=3, padding=1),\n",
    "            nn.BatchNorm2d(128),\n",
    "            nn.ReLU(),\n",
    "            nn.MaxPool2d(2)\n",
    "        )\n",
    "        self.fc = nn.Sequential(\n",
    "            nn.Dropout(0.5),\n",
    "            nn.Linear(128 * 4 * 4, 256),\n",
    "            nn.ReLU(),\n",
    "            nn.Dropout(0.5),\n",
    "            nn.Linear(256, 10)\n",
    "        )\n",
    "\n",
    "    def forward(self, x):\n",
    "        out = self.layer1(x)\n",
    "        out = self.layer2(out)\n",
    "        out = self.layer3(out)\n",
    "        out = out.view(out.size(0), -1)\n",
    "        out = self.fc(out)\n",
    "        return out\n"
   ]
  },
  {
   "cell_type": "code",
   "execution_count": 9,
   "id": "ff3768b4-621f-4d99-94fb-720bd28e7b66",
   "metadata": {},
   "outputs": [
    {
     "name": "stdout",
     "output_type": "stream",
     "text": [
      "Downloading https://www.cs.toronto.edu/~kriz/cifar-10-python.tar.gz to ./data/cifar-10-python.tar.gz\n"
     ]
    },
    {
     "name": "stderr",
     "output_type": "stream",
     "text": [
      "100%|█████████████████████████| 170498071/170498071 [03:09<00:00, 901243.57it/s]\n"
     ]
    },
    {
     "name": "stdout",
     "output_type": "stream",
     "text": [
      "Extracting ./data/cifar-10-python.tar.gz to ./data\n",
      "Files already downloaded and verified\n"
     ]
    }
   ],
   "source": [
    "# 2. Data Augmentation and Loaders\n",
    "transform_train = transforms.Compose([\n",
    "    transforms.RandomCrop(32, padding=4),\n",
    "    transforms.RandomHorizontalFlip(),\n",
    "    transforms.ToTensor(),\n",
    "    transforms.Normalize((0.5, 0.5, 0.5), (0.5, 0.5, 0.5))\n",
    "])\n",
    "\n",
    "transform_test = transforms.Compose([\n",
    "    transforms.ToTensor(),\n",
    "    transforms.Normalize((0.5, 0.5, 0.5), (0.5, 0.5, 0.5))\n",
    "])\n",
    "\n",
    "trainset = torchvision.datasets.CIFAR10(root='./data', train=True,\n",
    "                                        download=True, transform=transform_train)\n",
    "trainloader = torch.utils.data.DataLoader(trainset, batch_size=64,\n",
    "                                          shuffle=True, num_workers=2)\n",
    "\n",
    "testset = torchvision.datasets.CIFAR10(root='./data', train=False,\n",
    "                                       download=True, transform=transform_test)\n",
    "testloader = torch.utils.data.DataLoader(testset, batch_size=100,\n",
    "                                         shuffle=False, num_workers=2)\n",
    "\n",
    "classes = trainset.classes\n"
   ]
  },
  {
   "cell_type": "code",
   "execution_count": 11,
   "id": "c15f8702-2dfd-49a1-88ad-76698f48a84b",
   "metadata": {},
   "outputs": [],
   "source": [
    "# 4. Set device, model, loss, optimizer\n",
    "device = torch.device('cuda' if torch.cuda.is_available() else 'cpu')\n",
    "model = CustomCNN().to(device)\n",
    "\n",
    "criterion = nn.CrossEntropyLoss()\n",
    "optimizer = optim.Adam(model.parameters(), lr=0.001)\n"
   ]
  },
  {
   "cell_type": "code",
   "execution_count": 12,
   "id": "9722a1d3-237d-4df8-b011-1616450fa10e",
   "metadata": {},
   "outputs": [
    {
     "name": "stdout",
     "output_type": "stream",
     "text": [
      "Epoch [1/10] Loss: 1.6458 Accuracy: 39.02%\n",
      "Epoch [2/10] Loss: 1.3808 Accuracy: 49.57%\n",
      "Epoch [3/10] Loss: 1.2386 Accuracy: 55.43%\n",
      "Epoch [4/10] Loss: 1.1608 Accuracy: 58.56%\n",
      "Epoch [5/10] Loss: 1.0954 Accuracy: 61.15%\n",
      "Epoch [6/10] Loss: 1.0470 Accuracy: 63.22%\n",
      "Epoch [7/10] Loss: 1.0063 Accuracy: 64.71%\n",
      "Epoch [8/10] Loss: 0.9645 Accuracy: 66.16%\n",
      "Epoch [9/10] Loss: 0.9372 Accuracy: 67.20%\n",
      "Epoch [10/10] Loss: 0.9153 Accuracy: 68.49%\n"
     ]
    }
   ],
   "source": [
    "# 5. Train the model\n",
    "num_epochs = 10\n",
    "\n",
    "for epoch in range(num_epochs):\n",
    "    model.train()\n",
    "    running_loss = 0.0\n",
    "    correct = 0\n",
    "    total = 0\n",
    "\n",
    "    for images, labels in trainloader:\n",
    "        images, labels = images.to(device), labels.to(device)\n",
    "\n",
    "        outputs = model(images)\n",
    "        loss = criterion(outputs, labels)\n",
    "\n",
    "        optimizer.zero_grad()\n",
    "        loss.backward()\n",
    "        optimizer.step()\n",
    "\n",
    "        running_loss += loss.item()\n",
    "        _, predicted = outputs.max(1)\n",
    "        total += labels.size(0)\n",
    "        correct += predicted.eq(labels).sum().item()\n",
    "\n",
    "    print(f\"Epoch [{epoch+1}/{num_epochs}] Loss: {running_loss/len(trainloader):.4f} Accuracy: {100*correct/total:.2f}%\")\n"
   ]
  },
  {
   "cell_type": "code",
   "execution_count": 13,
   "id": "4b026cac-2fc8-4a34-9fc1-8e4c562a0a2c",
   "metadata": {},
   "outputs": [
    {
     "name": "stdout",
     "output_type": "stream",
     "text": [
      "Test Accuracy: 75.13%\n"
     ]
    }
   ],
   "source": [
    "# 6. Evaluate on Test Set\n",
    "model.eval()\n",
    "correct = 0\n",
    "total = 0\n",
    "all_preds = []\n",
    "all_labels = []\n",
    "\n",
    "with torch.no_grad():\n",
    "    for images, labels in testloader:\n",
    "        images, labels = images.to(device), labels.to(device)\n",
    "        outputs = model(images)\n",
    "        _, predicted = outputs.max(1)\n",
    "        total += labels.size(0)\n",
    "        correct += predicted.eq(labels).sum().item()\n",
    "\n",
    "        all_preds.extend(predicted.cpu().numpy())\n",
    "        all_labels.extend(labels.cpu().numpy())\n",
    "\n",
    "print(f\"Test Accuracy: {100*correct/total:.2f}%\")\n"
   ]
  },
  {
   "cell_type": "code",
   "execution_count": 14,
   "id": "2df2b921-2a73-41c7-8322-0e5d400688d4",
   "metadata": {},
   "outputs": [
    {
     "data": {
      "image/png": "[encoded data removed]",
      "text/plain": [
       "<Figure size 640x480 with 2 Axes>"
      ]
     },
     "metadata": {},
     "output_type": "display_data"
    }
   ],
   "source": [
    "# 7. Confusion Matrix\n",
    "cm = confusion_matrix(all_labels, all_preds)\n",
    "disp = ConfusionMatrixDisplay(confusion_matrix=cm, display_labels=classes)\n",
    "disp.plot(cmap=plt.cm.Blues)\n",
    "plt.xticks(rotation=45)\n",
    "plt.show()\n"
   ]
  },
  {
   "cell_type": "markdown",
   "id": "53b003fc-56db-4864-88c0-bf8a8d3ec5ba",
   "metadata": {},
   "source": [
    "## why transfer learning is often used in computer vision tasks\n",
    "- Training a new complete model from scratich is long and time consuming and computationally costly.\n",
    "- Getting the Vast amount of data is more difficult,\n",
    "- So we use pretrain model for its weights and fine tune based on our requirements which reduces computation and time, will converse faster than the model training from scratch.\n",
    "  "
   ]
  },
  {
   "cell_type": "code",
   "execution_count": 15,
   "id": "8302dc02-3fef-42bb-a43c-4a97214001cd",
   "metadata": {},
   "outputs": [
    {
     "name": "stderr",
     "output_type": "stream",
     "text": [
      "/home/santhosh/.local/lib/python3.8/site-packages/torchvision/models/_utils.py:208: UserWarning: The parameter 'pretrained' is deprecated since 0.13 and may be removed in the future, please use 'weights' instead.\n",
      "  warnings.warn(\n",
      "/home/santhosh/.local/lib/python3.8/site-packages/torchvision/models/_utils.py:223: UserWarning: Arguments other than a weight enum or `None` for 'weights' are deprecated since 0.13 and may be removed in the future. The current behavior is equivalent to passing `weights=ResNet18_Weights.IMAGENET1K_V1`. You can also use `weights=ResNet18_Weights.DEFAULT` to get the most up-to-date weights.\n",
      "  warnings.warn(msg)\n"
     ]
    }
   ],
   "source": [
    "import torch\n",
    "import torch.nn as nn\n",
    "from torchvision import models\n",
    "\n",
    "# Load pre-trained ResNet18\n",
    "model = models.resnet18(pretrained=True)\n",
    "\n",
    "# Freeze all layers initially\n",
    "for param in model.parameters():\n",
    "    param.requires_grad = False\n",
    "\n",
    "# Unfreeze the last convolutional block (layer4)\n",
    "for param in model.layer4.parameters():\n",
    "    param.requires_grad = True\n",
    "\n",
    "# Replace the final fully connected layer to fit binary classification\n",
    "model.fc = nn.Sequential(\n",
    "    nn.Linear(model.fc.in_features, 128),\n",
    "    nn.ReLU(),\n",
    "    nn.Dropout(0.5),\n",
    "    nn.Linear(128, 2)  # Binary classification (2 classes)\n",
    ")\n",
    "\n",
    "# Move model to device\n",
    "device = torch.device('cuda' if torch.cuda.is_available() else 'cpu')\n",
    "model = model.to(device)\n",
    "\n",
    "# Define optimizer (only trainable parameters)\n",
    "optimizer = torch.optim.Adam(filter(lambda p: p.requires_grad, model.parameters()), lr=1e-4)\n",
    "criterion = nn.CrossEntropyLoss()\n"
   ]
  },
  {
   "cell_type": "markdown",
   "id": "7ac824b5-ee36-4443-9298-ecc6cbf943e0",
   "metadata": {},
   "source": [
    "# Section 3: \n",
    "## Real-World Scenario & Optimization\n",
    "\n",
    "### Flask API for Real-Time YOLOv5 Detection on Video"
   ]
  },
  {
   "cell_type": "code",
   "execution_count": null,
   "id": "0e174059-9c76-4442-ae0e-5eb4dca3dfff",
   "metadata": {},
   "outputs": [],
   "source": [
    "from flask import Flask, request, send_file\n",
    "import torch\n",
    "import cv2\n",
    "import numpy as np\n",
    "import tempfile\n",
    "import os\n",
    "\n",
    "# Initialize Flask app\n",
    "app = Flask(__name__)\n",
    "\n",
    "# Load YOLOv5 model\n",
    "model = torch.hub.load('ultralytics/yolov5', 'yolov5s', pretrained=True)\n",
    "\n",
    "@app.route('/detect_video', methods=['POST'])\n",
    "def detect_video():\n",
    "    if 'video' not in request.files:\n",
    "        return 'No video file uploaded', 400\n",
    "\n",
    "    video_file = request.files['video']\n",
    "    \n",
    "    # Save uploaded video temporarily\n",
    "    temp_input = tempfile.NamedTemporaryFile(delete=False, suffix='.mp4')\n",
    "    temp_input.write(video_file.read())\n",
    "    temp_input.close()\n",
    "\n",
    "    # Open video\n",
    "    cap = cv2.VideoCapture(temp_input.name)\n",
    "    fourcc = cv2.VideoWriter_fourcc(*'mp4v')\n",
    "    output_path = tempfile.NamedTemporaryFile(delete=False, suffix='.mp4').name\n",
    "    out = cv2.VideoWriter(output_path, fourcc, 20.0, (frame.shape[1], frame.shape[0]))\n",
    "\n",
    "    while cap.isOpened():\n",
    "        ret, frame = cap.read()\n",
    "        if not ret:\n",
    "            break\n",
    "\n",
    "        # Inference\n",
    "        results = model(frame)\n",
    "        detections = results.xyxy[0]  # Bounding boxes\n",
    "        for *box, conf, cls in detections.cpu().numpy():\n",
    "            x1, y1, x2, y2 = map(int, box)\n",
    "            label = f'{model.names[int(cls)]} {conf:.2f}'\n",
    "            cv2.rectangle(frame, (x1, y1), (x2, y2), (0, 255, 0), 2)\n",
    "            cv2.putText(frame, label, (x1, y1 - 10),\n",
    "                        cv2.FONT_HERSHEY_SIMPLEX, 0.5, (255, 0, 0), 2)            \n",
    "\n",
    "        out.write(frame)\n",
    "\n",
    "    cap.release()\n",
    "    out.release()\n",
    "\n",
    "    # Send back processed video\n",
    "    return send_file(output_path, mimetype='video/mp4', as_attachment=True, download_name='processed_video.mp4')\n",
    "\n",
    "if __name__ == '__main__':\n",
    "    app.run(debug=True)\n"
   ]
  },
  {
   "cell_type": "markdown",
   "id": "3bba1b2a-be47-46c7-8914-fe8fec862a67",
   "metadata": {},
   "source": [
    "## Edge Optimization"
   ]
  },
  {
   "cell_type": "markdown",
   "id": "2ebe5ce3-0577-45a0-a284-b1330d65d2bf",
   "metadata": {},
   "source": [
    "## Strategies:\n",
    "- Quantization\n",
    "- Pruning\n",
    "- Knowledge distillation"
   ]
  },
  {
   "cell_type": "markdown",
   "id": "f669a3ee-86ac-46af-8627-57835eb891e0",
   "metadata": {},
   "source": [
    "### TensorFlow Lite Quantization Example:"
   ]
  },
  {
   "cell_type": "code",
   "execution_count": null,
   "id": "9271ddbe-ecbf-4479-8548-f8e9fdfa4a56",
   "metadata": {},
   "outputs": [],
   "source": [
    "import tensorflow as tf\n",
    "\n",
    "converter = tf.lite.TFLiteConverter.from_saved_model('model_v7.pt')\n",
    "converter.optimizations = [tf.lite.Optimize.DEFAULT]\n",
    "tflite_model = converter.convert()\n",
    "\n",
    "with open('model_quantized.tflite', 'wb') as f:\n",
    "    f.write(tflite_model)\n"
   ]
  }
 ],
 "metadata": {
  "kernelspec": {
   "display_name": "Python 3 (ipykernel)",
   "language": "python",
   "name": "python3"
  },
  "language_info": {
   "codemirror_mode": {
    "name": "ipython",
    "version": 3
   },
   "file_extension": ".py",
   "mimetype": "text/x-python",
   "name": "python",
   "nbconvert_exporter": "python",
   "pygments_lexer": "ipython3",
   "version": "3.8.10"
  }
 },
 "nbformat": 4,
 "nbformat_minor": 5
}
